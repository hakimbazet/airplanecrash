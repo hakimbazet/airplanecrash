{
 "cells": [
  {
   "cell_type": "code",
   "execution_count": 14,
   "metadata": {
    "collapsed": false,
    "deletable": true,
    "editable": true
   },
   "outputs": [],
   "source": [
    "%matplotlib inline\n",
    "import numpy as np\n",
    "import matplotlib.pyplot as plt\n",
    "import pandas as pd\n",
    "from datetime import datetime as dt\n",
    "import re\n",
    "from tqdm import tqdm"
   ]
  },
  {
   "cell_type": "code",
   "execution_count": 15,
   "metadata": {
    "collapsed": true,
    "deletable": true,
    "editable": true
   },
   "outputs": [],
   "source": [
    "# Read csv file\n",
    "df = pd.read_csv('../Airplane_Crashes_and_Fatalities_Since_1908.csv',index_col=0)"
   ]
  },
  {
   "cell_type": "code",
   "execution_count": 17,
   "metadata": {
    "collapsed": false,
    "deletable": true,
    "editable": true
   },
   "outputs": [
    {
     "name": "stdout",
     "output_type": "stream",
     "text": [
      "<class 'pandas.core.frame.DataFrame'>\n",
      "Index: 5268 entries, 09/17/1908 to 06/08/2009\n",
      "Data columns (total 12 columns):\n",
      "Time            3049 non-null object\n",
      "Location        5248 non-null object\n",
      "Operator        5250 non-null object\n",
      "Flight #        1069 non-null object\n",
      "Route           3562 non-null object\n",
      "Type            5241 non-null object\n",
      "Registration    4933 non-null object\n",
      "cn/In           4040 non-null object\n",
      "Aboard          5246 non-null float64\n",
      "Fatalities      5256 non-null float64\n",
      "Ground          5246 non-null float64\n",
      "Summary         4878 non-null object\n",
      "dtypes: float64(3), object(9)\n",
      "memory usage: 535.0+ KB\n"
     ]
    }
   ],
   "source": [
    "df.info()"
   ]
  },
  {
   "cell_type": "code",
   "execution_count": 18,
   "metadata": {
    "collapsed": false,
    "deletable": true,
    "editable": true
   },
   "outputs": [
    {
     "data": {
      "text/plain": [
       "array(['Time', 'Location', 'Operator', 'Flight #', 'Route', 'Type',\n",
       "       'Registration', 'cn/In', 'Aboard', 'Fatalities', 'Ground', 'Summary'], dtype=object)"
      ]
     },
     "execution_count": 18,
     "metadata": {},
     "output_type": "execute_result"
    }
   ],
   "source": [
    "df.columns.values "
   ]
  },
  {
   "cell_type": "markdown",
   "metadata": {
    "deletable": true,
    "editable": true
   },
   "source": [
    "### Label Definition\n",
    "\n",
    "* Date: Date Crash\n",
    "* Time: Time Crash\n",
    "* Operator: Pilot/Airlines\n",
    "* Flight #: Flight Number\n",
    "* Route: Route taken by the flight\n",
    "* Type: Aeroplane type\n",
    "* Registration: Registration Number \n",
    "* cn / ln: Construction or serial number / Line or fuselage number\n",
    "* Aboard: Number of people aboard in the planes\n",
    "* Fatalities: Number of people dies during the crashes\n",
    "* Ground: Total killed on the ground\n",
    "* Summary: Summary of the crashes"
   ]
  },
  {
   "cell_type": "code",
   "execution_count": 19,
   "metadata": {
    "collapsed": false,
    "deletable": true,
    "editable": true
   },
   "outputs": [],
   "source": [
    "# Change Date \n",
    "df.index = pd.to_datetime(df.index)"
   ]
  },
  {
   "cell_type": "code",
   "execution_count": 27,
   "metadata": {
    "collapsed": false,
    "deletable": true,
    "editable": true
   },
   "outputs": [
    {
     "name": "stderr",
     "output_type": "stream",
     "text": [
      "100%|█████████████████████████████████████| 5268/5268 [00:09<00:00, 530.08it/s]\n"
     ]
    }
   ],
   "source": [
    "# Extracting the hours only\n",
    "df['Hours'] = np.nan\n",
    "for row in tqdm(range(df.shape[0])):\n",
    "    try:\n",
    "        df.iloc[row,-1] = pd.to_datetime(df.iloc[row,0]).hour\n",
    "    except:\n",
    "        pass"
   ]
  },
  {
   "cell_type": "code",
   "execution_count": 30,
   "metadata": {
    "collapsed": false,
    "deletable": true,
    "editable": true
   },
   "outputs": [
    {
     "data": {
      "text/plain": [
       "<matplotlib.axes._subplots.AxesSubplot at 0x8311748>"
      ]
     },
     "execution_count": 30,
     "metadata": {},
     "output_type": "execute_result"
    },
    {
     "data": {
      "image/png": "[encoded data removed]",
      "text/plain": [
       "<matplotlib.figure.Figure at 0x8807518>"
      ]
     },
     "metadata": {},
     "output_type": "display_data"
    }
   ],
   "source": [
    "# Nan value in each columns\n",
    "fig, ax = plt.subplots()\n",
    "(df.isnull().sum()/len(df)).sort_values(ascending=True).plot(kind='barh',ax=ax)"
   ]
  },
  {
   "cell_type": "markdown",
   "metadata": {},
   "source": [
    "The flight number column will be drop since the null value is more than 50% and logically flight number will not affect the survival of the passengers in the aeroplane."
   ]
  },
  {
   "cell_type": "code",
   "execution_count": 45,
   "metadata": {
    "collapsed": false
   },
   "outputs": [
    {
     "data": {
      "text/html": [
       "<div>\n",
       "<table border=\"1\" class=\"dataframe\">\n",
       "  <thead>\n",
       "    <tr style=\"text-align: right;\">\n",
       "      <th></th>\n",
       "      <th>Time</th>\n",
       "      <th>Location</th>\n",
       "      <th>Operator</th>\n",
       "      <th>Flight #</th>\n",
       "      <th>Route</th>\n",
       "      <th>Type</th>\n",
       "      <th>Registration</th>\n",
       "      <th>cn/In</th>\n",
       "      <th>Aboard</th>\n",
       "      <th>Fatalities</th>\n",
       "      <th>Ground</th>\n",
       "      <th>Summary</th>\n",
       "      <th>Hours</th>\n",
       "    </tr>\n",
       "    <tr>\n",
       "      <th>Date</th>\n",
       "      <th></th>\n",
       "      <th></th>\n",
       "      <th></th>\n",
       "      <th></th>\n",
       "      <th></th>\n",
       "      <th></th>\n",
       "      <th></th>\n",
       "      <th></th>\n",
       "      <th></th>\n",
       "      <th></th>\n",
       "      <th></th>\n",
       "      <th></th>\n",
       "      <th></th>\n",
       "    </tr>\n",
       "  </thead>\n",
       "  <tbody>\n",
       "    <tr>\n",
       "      <th>1908-09-17</th>\n",
       "      <td>17:18</td>\n",
       "      <td>Fort Myer, Virginia</td>\n",
       "      <td>Military - U.S. Army</td>\n",
       "      <td>NaN</td>\n",
       "      <td>Demonstration</td>\n",
       "      <td>Wright Flyer III</td>\n",
       "      <td>NaN</td>\n",
       "      <td>1</td>\n",
       "      <td>2.0</td>\n",
       "      <td>1.0</td>\n",
       "      <td>0.0</td>\n",
       "      <td>During a demonstration flight, a U.S. Army fly...</td>\n",
       "      <td>17.0</td>\n",
       "    </tr>\n",
       "    <tr>\n",
       "      <th>1912-07-12</th>\n",
       "      <td>06:30</td>\n",
       "      <td>AtlantiCity, New Jersey</td>\n",
       "      <td>Military - U.S. Navy</td>\n",
       "      <td>NaN</td>\n",
       "      <td>Test flight</td>\n",
       "      <td>Dirigible</td>\n",
       "      <td>NaN</td>\n",
       "      <td>NaN</td>\n",
       "      <td>5.0</td>\n",
       "      <td>5.0</td>\n",
       "      <td>0.0</td>\n",
       "      <td>First U.S. dirigible Akron exploded just offsh...</td>\n",
       "      <td>6.0</td>\n",
       "    </tr>\n",
       "    <tr>\n",
       "      <th>1913-08-06</th>\n",
       "      <td>NaN</td>\n",
       "      <td>Victoria, British Columbia, Canada</td>\n",
       "      <td>Private</td>\n",
       "      <td>-</td>\n",
       "      <td>NaN</td>\n",
       "      <td>Curtiss seaplane</td>\n",
       "      <td>NaN</td>\n",
       "      <td>NaN</td>\n",
       "      <td>1.0</td>\n",
       "      <td>1.0</td>\n",
       "      <td>0.0</td>\n",
       "      <td>The first fatal airplane accident in Canada oc...</td>\n",
       "      <td>NaN</td>\n",
       "    </tr>\n",
       "    <tr>\n",
       "      <th>1913-09-09</th>\n",
       "      <td>18:30</td>\n",
       "      <td>Over the North Sea</td>\n",
       "      <td>Military - German Navy</td>\n",
       "      <td>NaN</td>\n",
       "      <td>NaN</td>\n",
       "      <td>Zeppelin L-1 (airship)</td>\n",
       "      <td>NaN</td>\n",
       "      <td>NaN</td>\n",
       "      <td>20.0</td>\n",
       "      <td>14.0</td>\n",
       "      <td>0.0</td>\n",
       "      <td>The airship flew into a thunderstorm and encou...</td>\n",
       "      <td>18.0</td>\n",
       "    </tr>\n",
       "    <tr>\n",
       "      <th>1913-10-17</th>\n",
       "      <td>10:30</td>\n",
       "      <td>Near Johannisthal, Germany</td>\n",
       "      <td>Military - German Navy</td>\n",
       "      <td>NaN</td>\n",
       "      <td>NaN</td>\n",
       "      <td>Zeppelin L-2 (airship)</td>\n",
       "      <td>NaN</td>\n",
       "      <td>NaN</td>\n",
       "      <td>30.0</td>\n",
       "      <td>30.0</td>\n",
       "      <td>0.0</td>\n",
       "      <td>Hydrogen gas which was being vented was sucked...</td>\n",
       "      <td>10.0</td>\n",
       "    </tr>\n",
       "  </tbody>\n",
       "</table>\n",
       "</div>"
      ],
      "text/plain": [
       "             Time                            Location                Operator  \\\n",
       "Date                                                                            \n",
       "1908-09-17  17:18                 Fort Myer, Virginia    Military - U.S. Army   \n",
       "1912-07-12  06:30             AtlantiCity, New Jersey    Military - U.S. Navy   \n",
       "1913-08-06    NaN  Victoria, British Columbia, Canada                 Private   \n",
       "1913-09-09  18:30                  Over the North Sea  Military - German Navy   \n",
       "1913-10-17  10:30          Near Johannisthal, Germany  Military - German Navy   \n",
       "\n",
       "           Flight #          Route                    Type Registration cn/In  \\\n",
       "Date                                                                            \n",
       "1908-09-17      NaN  Demonstration        Wright Flyer III          NaN     1   \n",
       "1912-07-12      NaN    Test flight               Dirigible          NaN   NaN   \n",
       "1913-08-06        -            NaN        Curtiss seaplane          NaN   NaN   \n",
       "1913-09-09      NaN            NaN  Zeppelin L-1 (airship)          NaN   NaN   \n",
       "1913-10-17      NaN            NaN  Zeppelin L-2 (airship)          NaN   NaN   \n",
       "\n",
       "            Aboard  Fatalities  Ground  \\\n",
       "Date                                     \n",
       "1908-09-17     2.0         1.0     0.0   \n",
       "1912-07-12     5.0         5.0     0.0   \n",
       "1913-08-06     1.0         1.0     0.0   \n",
       "1913-09-09    20.0        14.0     0.0   \n",
       "1913-10-17    30.0        30.0     0.0   \n",
       "\n",
       "                                                      Summary  Hours  \n",
       "Date                                                                  \n",
       "1908-09-17  During a demonstration flight, a U.S. Army fly...   17.0  \n",
       "1912-07-12  First U.S. dirigible Akron exploded just offsh...    6.0  \n",
       "1913-08-06  The first fatal airplane accident in Canada oc...    NaN  \n",
       "1913-09-09  The airship flew into a thunderstorm and encou...   18.0  \n",
       "1913-10-17  Hydrogen gas which was being vented was sucked...   10.0  "
      ]
     },
     "execution_count": 45,
     "metadata": {},
     "output_type": "execute_result"
    }
   ],
   "source": [
    "df.head()"
   ]
  },
  {
   "cell_type": "markdown",
   "metadata": {},
   "source": [
    "### Probability of Survivor \n",
    "We calculate the probability of survivor aboard the plane by this formula:\n",
    "\n",
    "$$ P_{Survived}(X) = \\frac{Aboard -Fatalities}{Aboard} $$\n",
    "\n",
    "where X is our input features."
   ]
  },
  {
   "cell_type": "code",
   "execution_count": 49,
   "metadata": {
    "collapsed": true
   },
   "outputs": [],
   "source": [
    "# Let create the probability column for survivor\n",
    "\n",
    "df['Survive_Prob'] = np.nan\n",
    "df['Survive_Prob'] = (df.Aboard - df.Fatalities)/df.Aboard"
   ]
  },
  {
   "cell_type": "code",
   "execution_count": 100,
   "metadata": {
    "collapsed": false
   },
   "outputs": [],
   "source": [
    "def get_states(address):\n",
    "    regex = re.compile(r'\\,(.*)')\n",
    "    state = re.search(regex,address).group(0)\n",
    "    state = state.replace(',','')\n",
    "    return state.strip()"
   ]
  },
  {
   "cell_type": "code",
   "execution_count": 109,
   "metadata": {
    "collapsed": false
   },
   "outputs": [
    {
     "name": "stderr",
     "output_type": "stream",
     "text": [
      "5268it [00:10, 507.96it/s]\n"
     ]
    }
   ],
   "source": [
    "for index,state in tqdm(enumerate(df.Location)):\n",
    "    try:\n",
    "        df.loc[df.Location.index[index],'State'] = get_states(state)\n",
    "    except:\n",
    "        pass"
   ]
  },
  {
   "cell_type": "code",
   "execution_count": null,
   "metadata": {
    "collapsed": true
   },
   "outputs": [],
   "source": []
  }
 ],
 "metadata": {
  "kernelspec": {
   "display_name": "Python 3",
   "language": "python",
   "name": "python3"
  },
  "language_info": {
   "codemirror_mode": {
    "name": "ipython",
    "version": 3
   },
   "file_extension": ".py",
   "mimetype": "text/x-python",
   "name": "python",
   "nbconvert_exporter": "python",
   "pygments_lexer": "ipython3",
   "version": "3.5.2"
  }
 },
 "nbformat": 4,
 "nbformat_minor": 2
}
