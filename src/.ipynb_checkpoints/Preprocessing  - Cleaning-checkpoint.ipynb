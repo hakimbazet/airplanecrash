{
 "cells": [
  {
   "cell_type": "markdown",
   "metadata": {},
   "source": [
    "By. __Muhammad Nurhakim b. Mohamed Bazet__\n",
    "\n",
    "Main Question/Problem Statements:\n",
    "\n",
    "Justify whether it is safer to take the aircraft nowadays ?\n",
    "\n",
    "In this analysis we will try to make it simple and clean so that it can be easily understandable. For this problem I we will approach it in 3 steps.\n",
    "\n",
    "1. __Preprocessing__ : Clean our dataset and make some feature engineering to our features to make it useful for our analysis and predictions later on.\n",
    "\n",
    "2. __Exploratory Data Analysis (EDA)__: By using our clean dataset, we will make some visualization or graph to see how our data is being distributed and see the correlation between the feautres. In here we will gain some insight whether or not we want to include our some of the our features for predictions.\n",
    "\n",
    "3. __Predictions__ : The last is where we will try to justify our main question whether is it safer to take the aircraft nowadays given a certain situation. "
   ]
  },
  {
   "cell_type": "markdown",
   "metadata": {},
   "source": [
    "### Probability of Survivor\n",
    "We calculate the probability of survivor aboard the plane by this formula:\n",
    "\n",
    "$$ P_{Survived}(X) = \\frac{Aboard -Fatalities}{Aboard} $$\n",
    "\n",
    "where X is our input features."
   ]
  },
  {
   "cell_type": "markdown",
   "metadata": {},
   "source": [
    "### Label Definition\n",
    "\n",
    "* Date: Date Crash\n",
    "* Time: Time Crash\n",
    "* Operator: Pilot/Airlines\n",
    "* Flight #: Flight Number\n",
    "* Route: Route taken by the flight\n",
    "* Type: Aeroplane type\n",
    "* Registration: Registration Number \n",
    "* cn / ln: Construction or serial number / Line or fuselage number\n",
    "* Aboard: Number of people aboard in the planes\n",
    "* Fatalities: Number of people dies during the crashes\n",
    "* Ground: Total killed on the ground\n",
    "* Summary: Summary of the crashes"
   ]
  },
  {
   "cell_type": "code",
   "execution_count": 325,
   "metadata": {
    "collapsed": true
   },
   "outputs": [],
   "source": [
    "%matplotlib inline\n",
    "import numpy as np #matrix multiplication \n",
    "import matplotlib.pyplot as plt # plot\n",
    "import pandas as pd # dataframe\n",
    "from datetime import datetime as dt # datetime format\n",
    "import re #regular expression for string\n",
    "from tqdm import tqdm # Fancy bar progress\n",
    "from collections import Counter # Count element\n",
    "\n",
    "# Natural Language Tool Kits (NLTK)\n",
    "from nltk.corpus import stopwords # Stopword\n",
    "from nltk.tokenize import word_tokenize #Tokenize our word"
   ]
  },
  {
   "cell_type": "code",
   "execution_count": 326,
   "metadata": {
    "collapsed": true
   },
   "outputs": [],
   "source": [
    "# Read csv file\n",
    "df = pd.read_csv('../Airplane_Crashes_and_Fatalities_Since_1908.csv')"
   ]
  },
  {
   "cell_type": "code",
   "execution_count": 327,
   "metadata": {},
   "outputs": [
    {
     "name": "stdout",
     "output_type": "stream",
     "text": [
      "<class 'pandas.core.frame.DataFrame'>\n",
      "RangeIndex: 5268 entries, 0 to 5267\n",
      "Data columns (total 13 columns):\n",
      "Date            5268 non-null object\n",
      "Time            3049 non-null object\n",
      "Location        5248 non-null object\n",
      "Operator        5250 non-null object\n",
      "Flight #        1069 non-null object\n",
      "Route           3562 non-null object\n",
      "Type            5241 non-null object\n",
      "Registration    4933 non-null object\n",
      "cn/In           4040 non-null object\n",
      "Aboard          5246 non-null float64\n",
      "Fatalities      5256 non-null float64\n",
      "Ground          5246 non-null float64\n",
      "Summary         4878 non-null object\n",
      "dtypes: float64(3), object(10)\n",
      "memory usage: 535.1+ KB\n"
     ]
    }
   ],
   "source": [
    "# General info regarding our datasets\n",
    "df.info()"
   ]
  },
  {
   "cell_type": "code",
   "execution_count": 330,
   "metadata": {},
   "outputs": [
    {
     "data": {
      "text/plain": [
       "<matplotlib.text.Text at 0x1480f38d5c0>"
      ]
     },
     "execution_count": 330,
     "metadata": {},
     "output_type": "execute_result"
    },
    {
     "data": {
      "image/png": "[encoded data removed]",
      "text/plain": [
       "<matplotlib.figure.Figure at 0x1480f3ff5f8>"
      ]
     },
     "metadata": {},
     "output_type": "display_data"
    }
   ],
   "source": [
    "# Nan value in each columns\n",
    "fig, ax = plt.subplots(figsize=(8,5))\n",
    "(df.isnull().sum()/len(df)).sort_values(ascending=True).plot(kind='barh',ax=ax)\n",
    "plt.title('Percentage of Missing Value in Each Columns')\n",
    "plt.xlabel('%')"
   ]
  },
  {
   "cell_type": "markdown",
   "metadata": {},
   "source": [
    "As we can see here Flight number has the most Null value with almost 80%. We will drop this columns because it contains too many NaN value. According to wikipedia also, [Flight Number](https://en.wikipedia.org/wiki/Flight_number) is just a combination of date and the airlines name. So we will assume that the flight number is not necessary for our analysis since there are already features with time, dates of crashes, opearator, and type of airplane. This features might be redundant and might affect our analysis later on."
   ]
  },
  {
   "cell_type": "code",
   "execution_count": 335,
   "metadata": {},
   "outputs": [],
   "source": [
    "df.drop('Flight #',axis=1,inplace=True)"
   ]
  },
  {
   "cell_type": "code",
   "execution_count": 152,
   "metadata": {
    "collapsed": true
   },
   "outputs": [],
   "source": [
    "# Let create the probability column for survivor\n",
    "\n",
    "df['Survive_Prob'] = np.nan\n",
    "df['Survive_Prob'] = (df.Aboard - df.Fatalities)/df.Aboard"
   ]
  },
  {
   "cell_type": "code",
   "execution_count": 336,
   "metadata": {
    "collapsed": true
   },
   "outputs": [],
   "source": [
    "# Change Date column formats\n",
    "df.Date = pd.to_datetime(df.Date)"
   ]
  },
  {
   "cell_type": "code",
   "execution_count": 337,
   "metadata": {},
   "outputs": [
    {
     "name": "stderr",
     "output_type": "stream",
     "text": [
      "100%|████████████████████████████████████████████████████████████████████████████| 5268/5268 [00:02<00:00, 2581.61it/s]\n"
     ]
    }
   ],
   "source": [
    "# Extracting the hours only\n",
    "df['Hours'] = np.nan\n",
    "for row in tqdm(range(df.shape[0])):\n",
    "    try:\n",
    "        df.iloc[row,-1] = pd.to_datetime(df.iloc[row,0]).hour\n",
    "    except:\n",
    "        pass"
   ]
  },
  {
   "cell_type": "markdown",
   "metadata": {},
   "source": [
    "One of the key features here of the survivor will be time whether it is in the morning, afternoon, evening, or night. So in here we will only extract the hours of the time rather than include it with the minutes."
   ]
  },
  {
   "cell_type": "code",
   "execution_count": 153,
   "metadata": {
    "collapsed": true
   },
   "outputs": [],
   "source": [
    "# Extract all keyword after , ie Kuala Lumpur, Malaysia\n",
    "def get_states(address):\n",
    "    if ',' in address:\n",
    "        regex = re.compile(r'\\,(.*)')\n",
    "        state = re.search(regex,address).group(0)\n",
    "        state = state.replace(',','')\n",
    "        return state.strip()\n",
    "    else:\n",
    "        return address"
   ]
  },
  {
   "cell_type": "code",
   "execution_count": 154,
   "metadata": {},
   "outputs": [
    {
     "name": "stderr",
     "output_type": "stream",
     "text": [
      "5268it [00:02, 2132.32it/s]\n"
     ]
    }
   ],
   "source": [
    "for index,state in tqdm(enumerate(df.Location)):\n",
    "    try:\n",
    "        df.loc[df.Location.index[index],'State'] = get_states(state)\n",
    "    except:\n",
    "        pass"
   ]
  },
  {
   "cell_type": "code",
   "execution_count": 157,
   "metadata": {
    "collapsed": true
   },
   "outputs": [],
   "source": [
    "def get_source_destination(routes):\n",
    "    \n",
    "    if '-' in routes:\n",
    "        regex = re.compile(r'(.*)\\-')\n",
    "        state_source = re.search(regex,routes).group(0)\n",
    "        state_source = state_source.replace('-','')\n",
    "        state_source = state_source.strip()\n",
    "        \n",
    "        regex = re.compile(r'\\-(.*)')\n",
    "        state_dest = re.search(regex,routes).group(0)\n",
    "        state_dest = state_dest.replace('-','')\n",
    "        state_dest = state_dest.strip()\n",
    "        \n",
    "        return state_source, state_dest\n",
    "    \n",
    "    else:\n",
    "        \n",
    "        return routes, routes"
   ]
  },
  {
   "cell_type": "code",
   "execution_count": 197,
   "metadata": {
    "collapsed": true
   },
   "outputs": [],
   "source": [
    "# Get the source and destination from Route\n",
    "df['Source'] = np.nan\n",
    "df['Destination'] = np.nan"
   ]
  },
  {
   "cell_type": "code",
   "execution_count": 198,
   "metadata": {},
   "outputs": [
    {
     "name": "stderr",
     "output_type": "stream",
     "text": [
      "5268it [00:03, 1499.97it/s]\n"
     ]
    }
   ],
   "source": [
    "for index,route in tqdm(enumerate(df.Route)):\n",
    "    \n",
    "    try:\n",
    "        if '-' in route:\n",
    "            src, dest = get_source_destination(route)\n",
    "            df.loc[df.Route.index[index],'Source'] = src\n",
    "            df.loc[df.Route.index[index],'Destination'] = dest\n",
    "        else:\n",
    "            df.loc[df.Route.index[index],'Source'] = route\n",
    "            df.loc[df.Route.index[index],'Destination'] = route\n",
    "            \n",
    "    except:\n",
    "        pass"
   ]
  },
  {
   "cell_type": "markdown",
   "metadata": {},
   "source": [
    "Plane Type: We will take the first letter of each keyword in type. i.e __Zeppelin L-1 (airship)__ we will extract the word __Zeppelin__ only."
   ]
  },
  {
   "cell_type": "code",
   "execution_count": 199,
   "metadata": {},
   "outputs": [],
   "source": [
    "def get_type(planetype):\n",
    "    # Get the first word \n",
    "    regex = re.compile(r'^([\\w]+)')\n",
    "    state_source = re.search(regex,planetype).group(0)\n",
    "    \n",
    "    return state_source\n",
    "    "
   ]
  },
  {
   "cell_type": "code",
   "execution_count": 200,
   "metadata": {
    "collapsed": true
   },
   "outputs": [],
   "source": [
    "df['Plane_Type'] = np.nan"
   ]
  },
  {
   "cell_type": "code",
   "execution_count": 201,
   "metadata": {},
   "outputs": [],
   "source": [
    "# Capatalize first word\n",
    "df.Type = df.Type.str.capitalize()"
   ]
  },
  {
   "cell_type": "code",
   "execution_count": 202,
   "metadata": {},
   "outputs": [
    {
     "name": "stderr",
     "output_type": "stream",
     "text": [
      "5268it [00:02, 2050.82it/s]\n"
     ]
    }
   ],
   "source": [
    "for index,planeType in tqdm(enumerate(df.Type)):\n",
    "    try:\n",
    "        df.loc[df.Type.index[index],'Plane_Type'] = get_type(planeType)\n",
    "    except:\n",
    "        pass\n",
    "    "
   ]
  },
  {
   "cell_type": "code",
   "execution_count": 203,
   "metadata": {
    "collapsed": true
   },
   "outputs": [],
   "source": [
    "war_type = ['Military','Army','Navy','Royal']"
   ]
  },
  {
   "cell_type": "code",
   "execution_count": 204,
   "metadata": {
    "collapsed": true
   },
   "outputs": [],
   "source": [
    "# Classify our plane to 2 type of plane based on Operator\n",
    "# Passenger = 1 , Military = 0\n",
    "df['Passenger_Military'] = np.nan"
   ]
  },
  {
   "cell_type": "code",
   "execution_count": 205,
   "metadata": {},
   "outputs": [
    {
     "name": "stderr",
     "output_type": "stream",
     "text": [
      "5268it [00:01, 2702.12it/s]\n"
     ]
    }
   ],
   "source": [
    "for index,operator in tqdm(enumerate(df.Operator)):\n",
    "    try:\n",
    "        if any(word in operator for word in war_type) == True:          \n",
    "            df.loc[df.Operator.index[index],'Passenger_Military'] = 0\n",
    "        elif any(word in operator for word in war_type) == False:\n",
    "            df.loc[df.Operator.index[index],'Passenger_Military'] = 1     \n",
    "    except:\n",
    "        pass\n",
    "    "
   ]
  },
  {
   "cell_type": "code",
   "execution_count": 306,
   "metadata": {},
   "outputs": [],
   "source": [
    "df.set_index('Date',inplace=True)"
   ]
  },
  {
   "cell_type": "markdown",
   "metadata": {},
   "source": [
    "##  NLTK Summary"
   ]
  },
  {
   "cell_type": "code",
   "execution_count": 310,
   "metadata": {},
   "outputs": [],
   "source": [
    "# Summary NLTK\n",
    "from nltk.probability import FreqDist\n",
    "stop_words = set(stopwords.words('english'))\n",
    "stop_words.update([',','.','!','The',])"
   ]
  },
  {
   "cell_type": "code",
   "execution_count": 311,
   "metadata": {
    "collapsed": true
   },
   "outputs": [],
   "source": [
    "token_df = pd.Series(np.nan,index=df.index)"
   ]
  },
  {
   "cell_type": "code",
   "execution_count": 312,
   "metadata": {},
   "outputs": [
    {
     "name": "stderr",
     "output_type": "stream",
     "text": [
      "5268it [00:02, 1839.33it/s]\n"
     ]
    }
   ],
   "source": [
    "total_filter_sentence = []\n",
    "\n",
    "for index,sentence in tqdm(enumerate(df.Summary)):\n",
    "    token_summary = []\n",
    "    try:\n",
    "        word_tokens = word_tokenize(sentence)\n",
    "        for w in word_tokens:\n",
    "            if w not in stop_words:\n",
    "                total_filter_sentence.append(w.lower())\n",
    "                token_summary.append(w.lower())\n",
    "        token_df.iloc[index] = token_summary\n",
    "        \n",
    "    except:\n",
    "        pass"
   ]
  },
  {
   "cell_type": "code",
   "execution_count": null,
   "metadata": {
    "collapsed": true
   },
   "outputs": [],
   "source": []
  },
  {
   "cell_type": "code",
   "execution_count": null,
   "metadata": {
    "collapsed": true
   },
   "outputs": [],
   "source": []
  },
  {
   "cell_type": "code",
   "execution_count": 315,
   "metadata": {},
   "outputs": [],
   "source": [
    "df.to_pickle('../Aircrashesh-semi_cleaned.pkl')"
   ]
  },
  {
   "cell_type": "code",
   "execution_count": 323,
   "metadata": {
    "collapsed": true
   },
   "outputs": [],
   "source": [
    "token_df.to_pickle('../Summary_token_word.pkl')"
   ]
  },
  {
   "cell_type": "code",
   "execution_count": null,
   "metadata": {
    "collapsed": true
   },
   "outputs": [],
   "source": []
  }
 ],
 "metadata": {
  "kernelspec": {
   "display_name": "Python 3",
   "language": "python",
   "name": "python3"
  },
  "language_info": {
   "codemirror_mode": {
    "name": "ipython",
    "version": 3
   },
   "file_extension": ".py",
   "mimetype": "text/x-python",
   "name": "python",
   "nbconvert_exporter": "python",
   "pygments_lexer": "ipython3",
   "version": "3.6.1"
  }
 },
 "nbformat": 4,
 "nbformat_minor": 2
}
